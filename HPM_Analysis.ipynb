{
 "cells": [
  {
   "cell_type": "markdown",
   "id": "81f91be6",
   "metadata": {},
   "source": [
    "# HPM ANALYSIS \n"
   ]
  },
  {
   "cell_type": "code",
   "execution_count": 1,
   "id": "67c9235c",
   "metadata": {},
   "outputs": [],
   "source": [
    "# Import dependencies \n",
    "\n",
    "import pandas as pd\n",
    "from scipy.stats import linregress\n",
    "import matplotlib.pyplot as plt \n",
    "import numpy as np\n"
   ]
  },
  {
   "cell_type": "code",
   "execution_count": 2,
   "id": "f7707bdc",
   "metadata": {
    "scrolled": true
   },
   "outputs": [
    {
     "data": {
      "text/html": [
       "<div>\n",
       "<style scoped>\n",
       "    .dataframe tbody tr th:only-of-type {\n",
       "        vertical-align: middle;\n",
       "    }\n",
       "\n",
       "    .dataframe tbody tr th {\n",
       "        vertical-align: top;\n",
       "    }\n",
       "\n",
       "    .dataframe thead th {\n",
       "        text-align: right;\n",
       "    }\n",
       "</style>\n",
       "<table border=\"1\" class=\"dataframe\">\n",
       "  <thead>\n",
       "    <tr style=\"text-align: right;\">\n",
       "      <th></th>\n",
       "      <th>Day_of_the_week</th>\n",
       "      <th>Date</th>\n",
       "      <th>Readers</th>\n",
       "      <th>WC_Pageviews</th>\n",
       "      <th>Product_Clicks</th>\n",
       "      <th>CTR</th>\n",
       "      <th>NYT_HP_Users</th>\n",
       "      <th>NYT_HP_Pageviews</th>\n",
       "      <th>Ratio_WC/NYT</th>\n",
       "    </tr>\n",
       "  </thead>\n",
       "  <tbody>\n",
       "    <tr>\n",
       "      <th>0</th>\n",
       "      <td>Wednesday</td>\n",
       "      <td>7/14</td>\n",
       "      <td>76894</td>\n",
       "      <td>99553</td>\n",
       "      <td>9886</td>\n",
       "      <td>9.9%</td>\n",
       "      <td>3103960</td>\n",
       "      <td>14242855</td>\n",
       "      <td>0.70%</td>\n",
       "    </tr>\n",
       "    <tr>\n",
       "      <th>1</th>\n",
       "      <td>Thursday</td>\n",
       "      <td>7/15</td>\n",
       "      <td>218714</td>\n",
       "      <td>298553</td>\n",
       "      <td>33472</td>\n",
       "      <td>11.2%</td>\n",
       "      <td>3146798</td>\n",
       "      <td>14097877</td>\n",
       "      <td>2.12%</td>\n",
       "    </tr>\n",
       "    <tr>\n",
       "      <th>2</th>\n",
       "      <td>Friday</td>\n",
       "      <td>7/16</td>\n",
       "      <td>262093</td>\n",
       "      <td>390684</td>\n",
       "      <td>57233</td>\n",
       "      <td>14.6%</td>\n",
       "      <td>3005451</td>\n",
       "      <td>13897691</td>\n",
       "      <td>2.81%</td>\n",
       "    </tr>\n",
       "    <tr>\n",
       "      <th>3</th>\n",
       "      <td>Saturday</td>\n",
       "      <td>7/17</td>\n",
       "      <td>255866</td>\n",
       "      <td>361521</td>\n",
       "      <td>39748</td>\n",
       "      <td>11.0%</td>\n",
       "      <td>2823989</td>\n",
       "      <td>12877267</td>\n",
       "      <td>2.81%</td>\n",
       "    </tr>\n",
       "    <tr>\n",
       "      <th>4</th>\n",
       "      <td>Sunday</td>\n",
       "      <td>7/18</td>\n",
       "      <td>243345</td>\n",
       "      <td>335314</td>\n",
       "      <td>69987</td>\n",
       "      <td>20.9%</td>\n",
       "      <td>2916172</td>\n",
       "      <td>13311426</td>\n",
       "      <td>2.52%</td>\n",
       "    </tr>\n",
       "  </tbody>\n",
       "</table>\n",
       "</div>"
      ],
      "text/plain": [
       "  Day_of_the_week  Date  Readers  WC_Pageviews  Product_Clicks    CTR  \\\n",
       "0       Wednesday  7/14    76894         99553            9886   9.9%   \n",
       "1        Thursday  7/15   218714        298553           33472  11.2%   \n",
       "2          Friday  7/16   262093        390684           57233  14.6%   \n",
       "3        Saturday  7/17   255866        361521           39748  11.0%   \n",
       "4          Sunday  7/18   243345        335314           69987  20.9%   \n",
       "\n",
       "   NYT_HP_Users  NYT_HP_Pageviews Ratio_WC/NYT  \n",
       "0       3103960          14242855        0.70%  \n",
       "1       3146798          14097877        2.12%  \n",
       "2       3005451          13897691        2.81%  \n",
       "3       2823989          12877267        2.81%  \n",
       "4       2916172          13311426        2.52%  "
      ]
     },
     "execution_count": 2,
     "metadata": {},
     "output_type": "execute_result"
    }
   ],
   "source": [
    "# read in data file \n",
    "data_file = pd.read_csv('AnalysisHPM.csv')\n",
    "data_file.head()"
   ]
  },
  {
   "cell_type": "code",
   "execution_count": 3,
   "id": "d3ae8a36",
   "metadata": {},
   "outputs": [],
   "source": [
    "# Fetch the columns needed from the data frame \n",
    "WC_Pageviews = data_file[\"WC_Pageviews\"].tolist()\n",
    "NYT_HP_Pageviews = data_file['NYT_HP_Pageviews'].tolist()"
   ]
  },
  {
   "cell_type": "code",
   "execution_count": 4,
   "id": "f9f0ae14",
   "metadata": {
    "scrolled": true
   },
   "outputs": [],
   "source": [
    "# Convert string into int with a list comprehension\n",
    "WC_Pageviews = [int(x) for x in WC_Pageviews] \n",
    "NYT_HP_Pageviews = [int(x) for x in NYT_HP_Pageviews] "
   ]
  },
  {
   "cell_type": "code",
   "execution_count": 5,
   "id": "e4d98818",
   "metadata": {},
   "outputs": [
    {
     "data": {
      "text/plain": [
       "LinregressResult(slope=0.00010718208712798624, intercept=201526.70291893807, rvalue=0.006158816382505692, pvalue=0.9239079065323483, stderr=0.0011210066664913755, intercept_stderr=20048.647550994578)"
      ]
     },
     "execution_count": 5,
     "metadata": {},
     "output_type": "execute_result"
    }
   ],
   "source": [
    "# Apply linear regression model \n",
    "linregress(NYT_HP_Pageviews,WC_Pageviews)"
   ]
  },
  {
   "cell_type": "code",
   "execution_count": 13,
   "id": "6705798f",
   "metadata": {},
   "outputs": [
    {
     "name": "stdout",
     "output_type": "stream",
     "text": [
      "The equation of the line is:\n",
      "y = 0.00011x + 201526.703\n",
      "The p-value is: 0.924\n"
     ]
    }
   ],
   "source": [
    "# Save the results as a touple \n",
    "(slope, intercept, rval, pval, stderr) = linregress(NYT_HP_Pageviews,WC_Pageviews)\n",
    "\n",
    "# get the equation of the line \n",
    "\n",
    "line_eq = (f\"y = {round(slope,5)}x + {round(intercept,3)}\")\n",
    "print(f\"The equation of the line is:\")\n",
    "print(line_eq)\n",
    "print(f\"The p-value is: {pval:.3f}\")"
   ]
  },
  {
   "cell_type": "code",
   "execution_count": 7,
   "id": "f744280f",
   "metadata": {},
   "outputs": [],
   "source": [
    "# Obtain regress values by plugging in values in the equation of line formula \n",
    "regress_values = [(NYT_HP * slope + intercept ) for NYT_HP in NYT_HP_Pageviews]"
   ]
  },
  {
   "cell_type": "code",
   "execution_count": 18,
   "id": "10fdb534",
   "metadata": {},
   "outputs": [
    {
     "data": {
      "image/png": "[encoded data removed]",
      "text/plain": [
       "<Figure size 792x504 with 1 Axes>"
      ]
     },
     "metadata": {
      "needs_background": "light"
     },
     "output_type": "display_data"
    }
   ],
   "source": [
    "# Plot regression model \n",
    "# Create a scatter plot of the x and y values.\n",
    "plt.figure(figsize=(11,7))\n",
    "plt.scatter(NYT_HP_Pageviews,WC_Pageviews)\n",
    "# Plot the regression line with the x-values and the y coordinates based on the intercept and slope.\n",
    "plt.plot(NYT_HP_Pageviews, regress_values, \"r\")\n",
    "plt.annotate(line_eq, (25000000,150000), fontsize=15, color=\"red\")\n",
    "plt.title(\"Linear regression model\")\n",
    "plt.ylabel('WC_Pageviews')\n",
    "plt.xlabel('NYT_HP_Pageviews')\n",
    "plt.show()"
   ]
  },
  {
   "cell_type": "code",
   "execution_count": null,
   "id": "f7c9b69f",
   "metadata": {},
   "outputs": [],
   "source": []
  }
 ],
 "metadata": {
  "kernelspec": {
   "display_name": "Python 3 (ipykernel)",
   "language": "python",
   "name": "python3"
  },
  "language_info": {
   "codemirror_mode": {
    "name": "ipython",
    "version": 3
   },
   "file_extension": ".py",
   "mimetype": "text/x-python",
   "name": "python",
   "nbconvert_exporter": "python",
   "pygments_lexer": "ipython3",
   "version": "3.9.7"
  }
 },
 "nbformat": 4,
 "nbformat_minor": 5
}
